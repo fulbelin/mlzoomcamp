{
 "cells": [
  {
   "cell_type": "code",
   "execution_count": 1,
   "id": "0ba410de",
   "metadata": {},
   "outputs": [
    {
     "name": "stdout",
     "output_type": "stream",
     "text": [
      "Requirement already satisfied: panda in c:\\users\\fulbe\\miniconda3\\envs\\mlzoomcamp\\lib\\site-packages (0.3.1)Note: you may need to restart the kernel to use updated packages.\n",
      "\n",
      "Requirement already satisfied: numpy in c:\\users\\fulbe\\appdata\\roaming\\python\\python312\\site-packages (2.1.2)\n",
      "Requirement already satisfied: seaborn in c:\\users\\fulbe\\miniconda3\\envs\\mlzoomcamp\\lib\\site-packages (0.13.2)\n",
      "Requirement already satisfied: setuptools in c:\\users\\fulbe\\appdata\\roaming\\python\\python312\\site-packages (from panda) (76.0.0)\n",
      "Requirement already satisfied: requests in c:\\users\\fulbe\\appdata\\roaming\\python\\python312\\site-packages (from panda) (2.32.3)\n",
      "Requirement already satisfied: pandas>=1.2 in c:\\users\\fulbe\\appdata\\roaming\\python\\python312\\site-packages (from seaborn) (2.3.1)\n",
      "Requirement already satisfied: matplotlib!=3.6.1,>=3.4 in c:\\users\\fulbe\\appdata\\roaming\\python\\python312\\site-packages (from seaborn) (3.9.2)\n",
      "Requirement already satisfied: contourpy>=1.0.1 in c:\\users\\fulbe\\appdata\\roaming\\python\\python312\\site-packages (from matplotlib!=3.6.1,>=3.4->seaborn) (1.3.0)\n",
      "Requirement already satisfied: cycler>=0.10 in c:\\users\\fulbe\\appdata\\roaming\\python\\python312\\site-packages (from matplotlib!=3.6.1,>=3.4->seaborn) (0.12.1)\n",
      "Requirement already satisfied: fonttools>=4.22.0 in c:\\users\\fulbe\\appdata\\roaming\\python\\python312\\site-packages (from matplotlib!=3.6.1,>=3.4->seaborn) (4.54.1)\n",
      "Requirement already satisfied: kiwisolver>=1.3.1 in c:\\users\\fulbe\\appdata\\roaming\\python\\python312\\site-packages (from matplotlib!=3.6.1,>=3.4->seaborn) (1.4.7)\n",
      "Requirement already satisfied: packaging>=20.0 in c:\\users\\fulbe\\appdata\\roaming\\python\\python312\\site-packages (from matplotlib!=3.6.1,>=3.4->seaborn) (24.1)\n",
      "Requirement already satisfied: pillow>=8 in c:\\users\\fulbe\\appdata\\roaming\\python\\python312\\site-packages (from matplotlib!=3.6.1,>=3.4->seaborn) (11.0.0)\n",
      "Requirement already satisfied: pyparsing>=2.3.1 in c:\\users\\fulbe\\appdata\\roaming\\python\\python312\\site-packages (from matplotlib!=3.6.1,>=3.4->seaborn) (3.2.0)\n",
      "Requirement already satisfied: python-dateutil>=2.7 in c:\\users\\fulbe\\appdata\\roaming\\python\\python312\\site-packages (from matplotlib!=3.6.1,>=3.4->seaborn) (2.9.0.post0)\n",
      "Requirement already satisfied: pytz>=2020.1 in c:\\users\\fulbe\\appdata\\roaming\\python\\python312\\site-packages (from pandas>=1.2->seaborn) (2025.2)\n",
      "Requirement already satisfied: tzdata>=2022.7 in c:\\users\\fulbe\\appdata\\roaming\\python\\python312\\site-packages (from pandas>=1.2->seaborn) (2025.2)\n",
      "Requirement already satisfied: charset-normalizer<4,>=2 in c:\\users\\fulbe\\appdata\\roaming\\python\\python312\\site-packages (from requests->panda) (3.4.1)\n",
      "Requirement already satisfied: idna<4,>=2.5 in c:\\users\\fulbe\\appdata\\roaming\\python\\python312\\site-packages (from requests->panda) (3.10)\n",
      "Requirement already satisfied: urllib3<3,>=1.21.1 in c:\\users\\fulbe\\appdata\\roaming\\python\\python312\\site-packages (from requests->panda) (2.3.0)\n",
      "Requirement already satisfied: certifi>=2017.4.17 in c:\\users\\fulbe\\appdata\\roaming\\python\\python312\\site-packages (from requests->panda) (2025.1.31)\n",
      "Requirement already satisfied: six>=1.5 in c:\\users\\fulbe\\appdata\\roaming\\python\\python312\\site-packages (from python-dateutil>=2.7->matplotlib!=3.6.1,>=3.4->seaborn) (1.16.0)\n"
     ]
    },
    {
     "name": "stderr",
     "output_type": "stream",
     "text": [
      "\n",
      "[notice] A new release of pip is available: 25.0.1 -> 25.2\n",
      "[notice] To update, run: python.exe -m pip install --upgrade pip\n"
     ]
    }
   ],
   "source": [
    "pip install panda numpy seaborn"
   ]
  },
  {
   "cell_type": "code",
   "execution_count": 2,
   "id": "be45e7f9",
   "metadata": {},
   "outputs": [],
   "source": [
    "import pandas as pd\n",
    "import numpy as np"
   ]
  },
  {
   "cell_type": "code",
   "execution_count": 3,
   "id": "8207d9f3",
   "metadata": {},
   "outputs": [
    {
     "data": {
      "text/plain": [
       "'2.3.1'"
      ]
     },
     "execution_count": 3,
     "metadata": {},
     "output_type": "execute_result"
    }
   ],
   "source": [
    "pd.__version__"
   ]
  },
  {
   "cell_type": "code",
   "execution_count": null,
   "id": "c8465482",
   "metadata": {},
   "outputs": [
    {
     "name": "stderr",
     "output_type": "stream",
     "text": [
      "--2025-09-23 15:21:37--  https://raw.githubusercontent.com/alexeygrigorev/datasets/master/car_fuel_efficiency.csv\n",
      "Resolving raw.githubusercontent.com (raw.githubusercontent.com)... 185.199.109.133, 185.199.108.133, 185.199.110.133, ...\n",
      "Connecting to raw.githubusercontent.com (raw.githubusercontent.com)|185.199.109.133|:443... connected.\n",
      "HTTP request sent, awaiting response... 200 OK\n",
      "Length: 874188 (854K) [text/plain]\n",
      "Saving to: 'car_fuel_efficiency.csv.2'\n",
      "\n",
      "     0K .......... .......... .......... .......... ..........  5% 24.0M 0s\n",
      "    50K .......... .......... .......... .......... .......... 11% 30.3M 0s\n",
      "   100K .......... .......... .......... .......... .......... 17% 70.0M 0s\n",
      "   150K .......... .......... .......... .......... .......... 23% 29.6M 0s\n",
      "   200K .......... .......... .......... .......... .......... 29% 30.1M 0s\n",
      "   250K .......... .......... .......... .......... .......... 35% 24.0M 0s\n",
      "   300K .......... .......... .......... .......... .......... 40% 29.0M 0s\n",
      "   350K .......... .......... .......... .......... .......... 46% 25.6M 0s\n",
      "   400K .......... .......... .......... .......... .......... 52% 23.0M 0s\n",
      "   450K .......... .......... .......... .......... .......... 58% 25.2M 0s\n",
      "   500K .......... .......... .......... .......... .......... 64% 24.5M 0s\n",
      "   550K .......... .......... .......... .......... .......... 70% 28.4M 0s\n",
      "   600K .......... .......... .......... .......... .......... 76% 46.5M 0s\n",
      "   650K .......... .......... .......... .......... .......... 81% 23.4M 0s\n",
      "   700K .......... .......... .......... .......... .......... 87% 30.0M 0s\n",
      "   750K .......... .......... .......... .......... .......... 93% 21.5M 0s\n",
      "   800K .......... .......... .......... .......... .......... 99% 22.2M 0s\n",
      "   850K ...                                                   100% 70.6G=0.03s\n",
      "\n",
      "2025-09-23 15:21:38 (27.6 MB/s) - 'car_fuel_efficiency.csv.2' saved [874188/874188]\n",
      "\n"
     ]
    }
   ],
   "source": [
    "#!wget https://raw.githubusercontent.com/alexeygrigorev/datasets/master/car_fuel_efficiency.csv"
   ]
  },
  {
   "cell_type": "code",
   "execution_count": 5,
   "id": "70bb368f",
   "metadata": {},
   "outputs": [
    {
     "data": {
      "text/plain": [
       "9704"
      ]
     },
     "execution_count": 5,
     "metadata": {},
     "output_type": "execute_result"
    }
   ],
   "source": [
    "df = pd.read_csv('car_fuel_efficiency.csv')\n",
    "\n",
    "len(df) "
   ]
  },
  {
   "cell_type": "code",
   "execution_count": 6,
   "id": "1fd33024",
   "metadata": {},
   "outputs": [
    {
     "name": "stdout",
     "output_type": "stream",
     "text": [
      "   engine_displacement  num_cylinders  horsepower  vehicle_weight  \\\n",
      "0                  170            3.0       159.0     3413.433759   \n",
      "1                  130            5.0        97.0     3149.664934   \n",
      "2                  170            NaN        78.0     3079.038997   \n",
      "3                  220            4.0         NaN     2542.392402   \n",
      "4                  210            1.0       140.0     3460.870990   \n",
      "\n",
      "   acceleration  model_year  origin fuel_type         drivetrain  num_doors  \\\n",
      "0          17.7        2003  Europe  Gasoline    All-wheel drive        0.0   \n",
      "1          17.8        2007     USA  Gasoline  Front-wheel drive        0.0   \n",
      "2          15.1        2018  Europe  Gasoline  Front-wheel drive        0.0   \n",
      "3          20.2        2009     USA    Diesel    All-wheel drive        2.0   \n",
      "4          14.4        2009  Europe  Gasoline    All-wheel drive        2.0   \n",
      "\n",
      "   fuel_efficiency_mpg  \n",
      "0            13.231729  \n",
      "1            13.688217  \n",
      "2            14.246341  \n",
      "3            16.912736  \n",
      "4            12.488369  \n"
     ]
    }
   ],
   "source": [
    "print(df.head())\n"
   ]
  },
  {
   "cell_type": "code",
   "execution_count": 7,
   "id": "44c2f9f3",
   "metadata": {},
   "outputs": [
    {
     "data": {
      "text/plain": [
       "array(['Gasoline', 'Diesel'], dtype=object)"
      ]
     },
     "execution_count": 7,
     "metadata": {},
     "output_type": "execute_result"
    }
   ],
   "source": [
    "df['fuel_type'].unique()"
   ]
  },
  {
   "cell_type": "code",
   "execution_count": 8,
   "id": "7d8d66e8",
   "metadata": {},
   "outputs": [
    {
     "data": {
      "text/plain": [
       "engine_displacement      0\n",
       "num_cylinders          482\n",
       "horsepower             708\n",
       "vehicle_weight           0\n",
       "acceleration           930\n",
       "model_year               0\n",
       "origin                   0\n",
       "fuel_type                0\n",
       "drivetrain               0\n",
       "num_doors              502\n",
       "fuel_efficiency_mpg      0\n",
       "dtype: int64"
      ]
     },
     "execution_count": 8,
     "metadata": {},
     "output_type": "execute_result"
    }
   ],
   "source": [
    "df.isnull().sum()"
   ]
  },
  {
   "cell_type": "code",
   "execution_count": 9,
   "id": "5eae9803",
   "metadata": {},
   "outputs": [
    {
     "data": {
      "text/plain": [
       "engine_displacement                  370\n",
       "num_cylinders                       11.0\n",
       "horsepower                         245.0\n",
       "vehicle_weight               4661.144932\n",
       "acceleration                        22.7\n",
       "model_year                          2023\n",
       "origin                              Asia\n",
       "fuel_type                       Gasoline\n",
       "drivetrain             Front-wheel drive\n",
       "num_doors                            4.0\n",
       "fuel_efficiency_mpg            23.759123\n",
       "dtype: object"
      ]
     },
     "execution_count": 9,
     "metadata": {},
     "output_type": "execute_result"
    }
   ],
   "source": [
    "df[df[\"origin\"] == \"Asia\"].max()"
   ]
  },
  {
   "cell_type": "code",
   "execution_count": 10,
   "id": "9f9ba0de",
   "metadata": {},
   "outputs": [
    {
     "data": {
      "text/plain": [
       "np.float64(149.0)"
      ]
     },
     "execution_count": 10,
     "metadata": {},
     "output_type": "execute_result"
    }
   ],
   "source": [
    "df['horsepower'].median()"
   ]
  },
  {
   "cell_type": "code",
   "execution_count": 11,
   "id": "0719aac9",
   "metadata": {},
   "outputs": [
    {
     "data": {
      "text/plain": [
       "0    152.0\n",
       "Name: horsepower, dtype: float64"
      ]
     },
     "execution_count": 11,
     "metadata": {},
     "output_type": "execute_result"
    }
   ],
   "source": [
    "df['horsepower'].mode()"
   ]
  },
  {
   "cell_type": "code",
   "execution_count": 12,
   "id": "229b7d4a",
   "metadata": {},
   "outputs": [
    {
     "data": {
      "text/plain": [
       "np.float64(149.82821516900248)"
      ]
     },
     "execution_count": 12,
     "metadata": {},
     "output_type": "execute_result"
    }
   ],
   "source": [
    "df['horsepower'].fillna(152).mean()"
   ]
  },
  {
   "cell_type": "code",
   "execution_count": 13,
   "id": "08c5b0e7",
   "metadata": {},
   "outputs": [
    {
     "data": {
      "text/plain": [
       "np.float64(149.0)"
      ]
     },
     "execution_count": 13,
     "metadata": {},
     "output_type": "execute_result"
    }
   ],
   "source": [
    "df['horsepower'].median()"
   ]
  },
  {
   "cell_type": "code",
   "execution_count": 32,
   "id": "a8e67f0a",
   "metadata": {},
   "outputs": [
    {
     "name": "stdout",
     "output_type": "stream",
     "text": [
      "w: [0.01386421 0.5049067 ]\n",
      "sum: 0.5187709081074039\n"
     ]
    }
   ],
   "source": [
    "x = df[df.origin == 'Asia'][['vehicle_weight', 'model_year']].head(7)\n",
    "X = x.to_numpy()\n",
    "\n",
    "XTX = X.T @ X\n",
    "XTX_inv = np.linalg.inv(XTX)\n",
    "\n",
    "y = np.array([1100, 1300, 800, 900, 1000, 1100, 1200])\n",
    "\n",
    "w = XTX_inv @ (X.T @ y)\n",
    "print(\"w:\", w)\n",
    "print(\"sum:\", w.sum())\n"
   ]
  }
 ],
 "metadata": {
  "kernelspec": {
   "display_name": "mlzoomcamp",
   "language": "python",
   "name": "python3"
  },
  "language_info": {
   "codemirror_mode": {
    "name": "ipython",
    "version": 3
   },
   "file_extension": ".py",
   "mimetype": "text/x-python",
   "name": "python",
   "nbconvert_exporter": "python",
   "pygments_lexer": "ipython3",
   "version": "3.12.11"
  }
 },
 "nbformat": 4,
 "nbformat_minor": 5
}
