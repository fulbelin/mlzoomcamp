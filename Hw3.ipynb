{
 "cells": [
  {
   "cell_type": "code",
   "execution_count": 16,
   "id": "0051ecc3",
   "metadata": {},
   "outputs": [
    {
     "name": "stderr",
     "output_type": "stream",
     "text": [
      "--2025-10-13 20:48:18--  https://raw.githubusercontent.com/alexeygrigorev/datasets/master/course_lead_scoring.csv\n",
      "Resolving raw.githubusercontent.com (raw.githubusercontent.com)... 185.199.109.133, 185.199.110.133, 185.199.111.133, ...\n",
      "Connecting to raw.githubusercontent.com (raw.githubusercontent.com)|185.199.109.133|:443... connected.\n",
      "HTTP request sent, awaiting response... 200 OK\n",
      "Length: 80876 (79K) [text/plain]\n",
      "Saving to: 'course_lead_scoring.csv.1'\n",
      "\n",
      "     0K .......... .......... .......... .......... .......... 63% 28.1M 0s\n",
      "    50K .......... .......... ........                        100% 21.9M=0.003s\n",
      "\n",
      "2025-10-13 20:48:19 (25.4 MB/s) - 'course_lead_scoring.csv.1' saved [80876/80876]\n",
      "\n"
     ]
    }
   ],
   "source": [
    "!wget https://raw.githubusercontent.com/alexeygrigorev/datasets/master/course_lead_scoring.csv"
   ]
  },
  {
   "cell_type": "code",
   "execution_count": 17,
   "id": "862bc084",
   "metadata": {},
   "outputs": [],
   "source": [
    "import pandas as pd\n",
    "import numpy as np"
   ]
  },
  {
   "cell_type": "code",
   "execution_count": 18,
   "id": "4d320bd3",
   "metadata": {},
   "outputs": [],
   "source": [
    "df = pd.read_csv('course_lead_scoring.csv')\n"
   ]
  },
  {
   "cell_type": "code",
   "execution_count": 19,
   "id": "bd95b89b",
   "metadata": {},
   "outputs": [
    {
     "name": "stdout",
     "output_type": "stream",
     "text": [
      "<class 'pandas.core.frame.DataFrame'>\n",
      "RangeIndex: 1462 entries, 0 to 1461\n",
      "Data columns (total 9 columns):\n",
      " #   Column                    Non-Null Count  Dtype  \n",
      "---  ------                    --------------  -----  \n",
      " 0   lead_source               1334 non-null   object \n",
      " 1   industry                  1328 non-null   object \n",
      " 2   number_of_courses_viewed  1462 non-null   int64  \n",
      " 3   annual_income             1281 non-null   float64\n",
      " 4   employment_status         1362 non-null   object \n",
      " 5   location                  1399 non-null   object \n",
      " 6   interaction_count         1462 non-null   int64  \n",
      " 7   lead_score                1462 non-null   float64\n",
      " 8   converted                 1462 non-null   int64  \n",
      "dtypes: float64(2), int64(3), object(4)\n",
      "memory usage: 102.9+ KB\n"
     ]
    }
   ],
   "source": [
    "df.info()"
   ]
  },
  {
   "cell_type": "code",
   "execution_count": 20,
   "id": "84f5fc69",
   "metadata": {},
   "outputs": [],
   "source": [
    "categorical_columns = [\"lead_source\",\"industry\",\"employment_status\",\"location\"]\n",
    "numerical_columns = [\"number_of_courses_viewed\",\"annual_income\",\"interaction_count\",\"lead_score\",\"converted\"]"
   ]
  },
  {
   "cell_type": "code",
   "execution_count": null,
   "id": "38bd7d8b",
   "metadata": {},
   "outputs": [
    {
     "name": "stdout",
     "output_type": "stream",
     "text": [
      "128\n",
      "134\n",
      "100\n",
      "63\n"
     ]
    }
   ],
   "source": [
    "for i in categorical_columns:\n",
    "    print(df[i].isnull().sum())\n",
    "df[categorical_columns] = df[categorical_columns].fillna(\"NA\")\n"
   ]
  },
  {
   "cell_type": "code",
   "execution_count": 23,
   "id": "bf30d976",
   "metadata": {},
   "outputs": [
    {
     "name": "stdout",
     "output_type": "stream",
     "text": [
      "0\n",
      "0\n",
      "0\n",
      "0\n"
     ]
    }
   ],
   "source": [
    "for i in categorical_columns:\n",
    "    print(df[i].isnull().sum())"
   ]
  },
  {
   "cell_type": "code",
   "execution_count": 22,
   "id": "cc6dc37b",
   "metadata": {},
   "outputs": [
    {
     "name": "stdout",
     "output_type": "stream",
     "text": [
      "0\n",
      "181\n",
      "0\n",
      "0\n",
      "0\n"
     ]
    }
   ],
   "source": [
    "for i in numerical_columns:\n",
    "    print(df[i].isnull().sum())\n",
    "df[numerical_columns] = df[numerical_columns].fillna(0.0)"
   ]
  },
  {
   "cell_type": "code",
   "execution_count": 24,
   "id": "c6e3f666",
   "metadata": {},
   "outputs": [
    {
     "name": "stdout",
     "output_type": "stream",
     "text": [
      "0\n",
      "0\n",
      "0\n",
      "0\n",
      "0\n"
     ]
    }
   ],
   "source": [
    "for i in numerical_columns:\n",
    "    print(df[i].isnull().sum())"
   ]
  },
  {
   "cell_type": "code",
   "execution_count": 25,
   "id": "60e0d7e7",
   "metadata": {},
   "outputs": [
    {
     "data": {
      "text/plain": [
       "0    retail\n",
       "Name: industry, dtype: object"
      ]
     },
     "execution_count": 25,
     "metadata": {},
     "output_type": "execute_result"
    }
   ],
   "source": [
    "df['industry'].mode()"
   ]
  },
  {
   "cell_type": "code",
   "execution_count": 26,
   "id": "a4506879",
   "metadata": {},
   "outputs": [
    {
     "data": {
      "text/html": [
       "<div>\n",
       "<style scoped>\n",
       "    .dataframe tbody tr th:only-of-type {\n",
       "        vertical-align: middle;\n",
       "    }\n",
       "\n",
       "    .dataframe tbody tr th {\n",
       "        vertical-align: top;\n",
       "    }\n",
       "\n",
       "    .dataframe thead th {\n",
       "        text-align: right;\n",
       "    }\n",
       "</style>\n",
       "<table border=\"1\" class=\"dataframe\">\n",
       "  <thead>\n",
       "    <tr style=\"text-align: right;\">\n",
       "      <th></th>\n",
       "      <th>number_of_courses_viewed</th>\n",
       "      <th>annual_income</th>\n",
       "      <th>interaction_count</th>\n",
       "      <th>lead_score</th>\n",
       "      <th>converted</th>\n",
       "    </tr>\n",
       "  </thead>\n",
       "  <tbody>\n",
       "    <tr>\n",
       "      <th>number_of_courses_viewed</th>\n",
       "      <td>1.000000</td>\n",
       "      <td>0.009770</td>\n",
       "      <td>-0.023565</td>\n",
       "      <td>-0.004879</td>\n",
       "      <td>0.435914</td>\n",
       "    </tr>\n",
       "    <tr>\n",
       "      <th>annual_income</th>\n",
       "      <td>0.009770</td>\n",
       "      <td>1.000000</td>\n",
       "      <td>0.027036</td>\n",
       "      <td>0.015610</td>\n",
       "      <td>0.053131</td>\n",
       "    </tr>\n",
       "    <tr>\n",
       "      <th>interaction_count</th>\n",
       "      <td>-0.023565</td>\n",
       "      <td>0.027036</td>\n",
       "      <td>1.000000</td>\n",
       "      <td>0.009888</td>\n",
       "      <td>0.374573</td>\n",
       "    </tr>\n",
       "    <tr>\n",
       "      <th>lead_score</th>\n",
       "      <td>-0.004879</td>\n",
       "      <td>0.015610</td>\n",
       "      <td>0.009888</td>\n",
       "      <td>1.000000</td>\n",
       "      <td>0.193673</td>\n",
       "    </tr>\n",
       "    <tr>\n",
       "      <th>converted</th>\n",
       "      <td>0.435914</td>\n",
       "      <td>0.053131</td>\n",
       "      <td>0.374573</td>\n",
       "      <td>0.193673</td>\n",
       "      <td>1.000000</td>\n",
       "    </tr>\n",
       "  </tbody>\n",
       "</table>\n",
       "</div>"
      ],
      "text/plain": [
       "                          number_of_courses_viewed  annual_income  \\\n",
       "number_of_courses_viewed                  1.000000       0.009770   \n",
       "annual_income                             0.009770       1.000000   \n",
       "interaction_count                        -0.023565       0.027036   \n",
       "lead_score                               -0.004879       0.015610   \n",
       "converted                                 0.435914       0.053131   \n",
       "\n",
       "                          interaction_count  lead_score  converted  \n",
       "number_of_courses_viewed          -0.023565   -0.004879   0.435914  \n",
       "annual_income                      0.027036    0.015610   0.053131  \n",
       "interaction_count                  1.000000    0.009888   0.374573  \n",
       "lead_score                         0.009888    1.000000   0.193673  \n",
       "converted                          0.374573    0.193673   1.000000  "
      ]
     },
     "execution_count": 26,
     "metadata": {},
     "output_type": "execute_result"
    }
   ],
   "source": [
    "matrix = df[numerical_columns].corr()\n",
    "matrix"
   ]
  },
  {
   "cell_type": "code",
   "execution_count": 27,
   "id": "dff6fad8",
   "metadata": {},
   "outputs": [],
   "source": [
    "from sklearn.model_selection import train_test_split"
   ]
  },
  {
   "cell_type": "code",
   "execution_count": null,
   "id": "00cf6729",
   "metadata": {},
   "outputs": [],
   "source": [
    "target = 'converted'  \n",
    "y = df[target]                   \n",
    "X = df.drop(columns=[target])    \n"
   ]
  },
  {
   "cell_type": "code",
   "execution_count": 29,
   "id": "1e29e5c2",
   "metadata": {},
   "outputs": [],
   "source": [
    "X_train, X_temp, y_train, y_temp = train_test_split(\n",
    "    X, y, test_size=0.4, random_state=42\n",
    ")"
   ]
  },
  {
   "cell_type": "code",
   "execution_count": 30,
   "id": "08919274",
   "metadata": {},
   "outputs": [],
   "source": [
    "X_val, X_test, y_val, y_test = train_test_split(\n",
    "    X_temp, y_temp, test_size=0.5, random_state=42\n",
    ")\n"
   ]
  },
  {
   "cell_type": "code",
   "execution_count": 31,
   "id": "6c03f00b",
   "metadata": {},
   "outputs": [
    {
     "data": {
      "text/plain": [
       "(877, 292, 293)"
      ]
     },
     "execution_count": 31,
     "metadata": {},
     "output_type": "execute_result"
    }
   ],
   "source": [
    "len(X_train), len(X_val), len(X_test)\n"
   ]
  },
  {
   "cell_type": "code",
   "execution_count": 32,
   "id": "0795eb13",
   "metadata": {},
   "outputs": [],
   "source": [
    "from sklearn.metrics import mutual_info_score\n"
   ]
  },
  {
   "cell_type": "code",
   "execution_count": 33,
   "id": "b0aa5549",
   "metadata": {},
   "outputs": [],
   "source": [
    "mi_scores = {}\n",
    "\n",
    "for i in categorical_columns:\n",
    "    score = mutual_info_score(X_train[i], y_train)\n",
    "    mi_scores[i] = round(score, 2)\n"
   ]
  },
  {
   "cell_type": "code",
   "execution_count": 34,
   "id": "d2117a5d",
   "metadata": {},
   "outputs": [
    {
     "name": "stdout",
     "output_type": "stream",
     "text": [
      "{'lead_source': np.float64(0.03), 'industry': np.float64(0.02), 'employment_status': np.float64(0.02), 'location': np.float64(0.0)}\n"
     ]
    }
   ],
   "source": [
    "mi_scores = dict(sorted(mi_scores.items(), key=lambda x: x[1], reverse=True))\n",
    "\n",
    "print(mi_scores)"
   ]
  },
  {
   "cell_type": "code",
   "execution_count": null,
   "id": "d7d6160c",
   "metadata": {},
   "outputs": [],
   "source": [
    "train = X_train.copy()\n",
    "train[target] = y_train\n",
    "\n",
    "val = X_val.copy()\n",
    "val[target] = y_val\n",
    "\n",
    "test = X_test.copy()\n",
    "test[target] = y_test\n",
    "\n",
    "y_train = train[target]\n",
    "X_train = train.drop(columns=[target])\n",
    "\n",
    "y_val = val[target]\n",
    "X_val = val.drop(columns=[target])\n",
    "\n",
    "y_test = test[target]\n",
    "X_test = test.drop(columns=[target])\n"
   ]
  },
  {
   "cell_type": "code",
   "execution_count": 38,
   "id": "7e43323b",
   "metadata": {},
   "outputs": [],
   "source": [
    "X_train_encoded = pd.get_dummies(X_train, drop_first=True)\n",
    "X_val_encoded = pd.get_dummies(X_val, drop_first=True)\n",
    "X_val_encoded = X_val_encoded.reindex(columns=X_train_encoded.columns, fill_value=0)\n"
   ]
  },
  {
   "cell_type": "code",
   "execution_count": 41,
   "id": "17d38dba",
   "metadata": {},
   "outputs": [],
   "source": [
    "from sklearn.linear_model import LogisticRegression\n",
    "from sklearn.metrics import accuracy_score\n"
   ]
  },
  {
   "cell_type": "code",
   "execution_count": 42,
   "id": "f4bb76e2",
   "metadata": {},
   "outputs": [
    {
     "name": "stdout",
     "output_type": "stream",
     "text": [
      "0.74\n"
     ]
    }
   ],
   "source": [
    "model = LogisticRegression(solver='liblinear', C=1.0, max_iter=1000, random_state=42)\n",
    "model.fit(X_train_encoded, y_train)\n",
    "\n",
    "y_pred = model.predict(X_val_encoded)\n",
    "acc_rounded = round(accuracy_score(y_val, y_pred), 2)\n",
    "print(acc_rounded)"
   ]
  },
  {
   "cell_type": "code",
   "execution_count": 43,
   "id": "fb60aecd",
   "metadata": {},
   "outputs": [
    {
     "name": "stdout",
     "output_type": "stream",
     "text": [
      "Base accuracy: 0.7431506849315068\n"
     ]
    }
   ],
   "source": [
    "model = LogisticRegression(solver='liblinear', C=1.0, max_iter=1000, random_state=42)\n",
    "model.fit(X_train_encoded, y_train)\n",
    "\n",
    "\n",
    "y_pred = model.predict(X_val_encoded)\n",
    "base_acc = accuracy_score(y_val, y_pred)   \n",
    "print(\"Base accuracy:\", base_acc)"
   ]
  },
  {
   "cell_type": "code",
   "execution_count": 44,
   "id": "0ec97a8e",
   "metadata": {},
   "outputs": [],
   "source": [
    "feature_drop_results = {}\n",
    "\n",
    "for col in X_train_encoded.columns:\n",
    "    # Drop feature col\n",
    "    X_train_reduced = X_train_encoded.drop(columns=[col])\n",
    "    X_val_reduced = X_val_encoded.drop(columns=[col])\n",
    "    \n",
    "    # Train model without this feature\n",
    "    model = LogisticRegression(solver='liblinear', C=1.0, max_iter=1000, random_state=42)\n",
    "    model.fit(X_train_reduced, y_train)\n",
    "    \n",
    "    # Evaluate accuracy\n",
    "    y_pred = model.predict(X_val_reduced)\n",
    "    acc = accuracy_score(y_val, y_pred)\n",
    "    \n",
    "    # Accuracy drop = base - new\n",
    "    diff = base_acc - acc\n",
    "    feature_drop_results[col] = diff\n"
   ]
  },
  {
   "cell_type": "code",
   "execution_count": 45,
   "id": "295cc597",
   "metadata": {},
   "outputs": [
    {
     "data": {
      "text/plain": [
       "{'interaction_count': 0.06849315068493145,\n",
       " 'number_of_courses_viewed': 0.06506849315068486,\n",
       " 'lead_score': 0.0,\n",
       " 'lead_source_events': 0.0,\n",
       " 'lead_source_organic_search': 0.0,\n",
       " 'lead_source_referral': 0.0,\n",
       " 'lead_source_social_media': 0.0,\n",
       " 'industry_education': 0.0,\n",
       " 'industry_finance': 0.0,\n",
       " 'industry_healthcare': 0.0,\n",
       " 'industry_manufacturing': 0.0,\n",
       " 'industry_other': 0.0,\n",
       " 'industry_retail': 0.0,\n",
       " 'industry_technology': 0.0,\n",
       " 'employment_status_employed': 0.0,\n",
       " 'employment_status_student': 0.0,\n",
       " 'location_africa': 0.0,\n",
       " 'location_asia': 0.0,\n",
       " 'location_australia': 0.0,\n",
       " 'location_europe': 0.0,\n",
       " 'location_middle_east': 0.0,\n",
       " 'location_north_america': 0.0,\n",
       " 'location_south_america': 0.0,\n",
       " 'lead_source_paid_ads': -0.003424657534246589,\n",
       " 'employment_status_self_employed': -0.003424657534246589,\n",
       " 'employment_status_unemployed': -0.003424657534246589,\n",
       " 'annual_income': -0.1095890410958904}"
      ]
     },
     "execution_count": 45,
     "metadata": {},
     "output_type": "execute_result"
    }
   ],
   "source": [
    "sorted_results = dict(sorted(feature_drop_results.items(), key=lambda x: x[1], reverse=True))\n",
    "sorted_results\n"
   ]
  },
  {
   "cell_type": "code",
   "execution_count": 46,
   "id": "0189bb66",
   "metadata": {},
   "outputs": [
    {
     "data": {
      "text/plain": [
       "[(0.01, 0.74), (0.1, 0.743), (1, 0.743), (10, 0.743), (100, 0.743)]"
      ]
     },
     "execution_count": 46,
     "metadata": {},
     "output_type": "execute_result"
    }
   ],
   "source": [
    "C_values = [0.01, 0.1, 1, 10, 100]\n",
    "results = []\n",
    "\n",
    "for C in C_values:\n",
    "    model = LogisticRegression(\n",
    "        solver='liblinear',\n",
    "        C=C,\n",
    "        max_iter=1000,\n",
    "        random_state=42\n",
    "    )\n",
    "    model.fit(X_train_encoded, y_train)\n",
    "    y_pred = model.predict(X_val_encoded)\n",
    "    acc = accuracy_score(y_val, y_pred)\n",
    "    results.append((C, round(acc, 3)))\n",
    "\n",
    "results\n"
   ]
  }
 ],
 "metadata": {
  "kernelspec": {
   "display_name": "mlzoomcamp",
   "language": "python",
   "name": "python3"
  },
  "language_info": {
   "codemirror_mode": {
    "name": "ipython",
    "version": 3
   },
   "file_extension": ".py",
   "mimetype": "text/x-python",
   "name": "python",
   "nbconvert_exporter": "python",
   "pygments_lexer": "ipython3",
   "version": "3.12.11"
  }
 },
 "nbformat": 4,
 "nbformat_minor": 5
}
