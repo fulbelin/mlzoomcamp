{
 "cells": [
  {
   "cell_type": "code",
   "execution_count": 1,
   "id": "ec0447c0",
   "metadata": {},
   "outputs": [
    {
     "name": "stderr",
     "output_type": "stream",
     "text": [
      "--2025-10-21 13:22:35--  https://raw.githubusercontent.com/alexeygrigorev/datasets/master/course_lead_scoring.csv\n",
      "Resolving raw.githubusercontent.com (raw.githubusercontent.com)... 185.199.110.133, 185.199.111.133, 185.199.108.133, ...\n",
      "Connecting to raw.githubusercontent.com (raw.githubusercontent.com)|185.199.110.133|:443... connected.\n",
      "HTTP request sent, awaiting response... 200 OK\n",
      "Length: 80876 (79K) [text/plain]\n",
      "Saving to: 'course_lead_scoring.csv.2'\n",
      "\n",
      "     0K .......... .......... .......... .......... .......... 63% 11.7M 0s\n",
      "    50K .......... .......... ........                        100% 21.6M=0.005s\n",
      "\n",
      "2025-10-21 13:22:35 (14.1 MB/s) - 'course_lead_scoring.csv.2' saved [80876/80876]\n",
      "\n"
     ]
    }
   ],
   "source": [
    "!wget https://raw.githubusercontent.com/alexeygrigorev/datasets/master/course_lead_scoring.csv"
   ]
  },
  {
   "cell_type": "code",
   "execution_count": 2,
   "id": "05e6882d",
   "metadata": {},
   "outputs": [],
   "source": [
    "import pandas as pd\n",
    "import numpy as np"
   ]
  },
  {
   "cell_type": "code",
   "execution_count": 3,
   "id": "41916aab",
   "metadata": {},
   "outputs": [],
   "source": [
    "df = pd.read_csv('course_lead_scoring.csv.2')\n"
   ]
  },
  {
   "cell_type": "code",
   "execution_count": 4,
   "id": "ff179dff",
   "metadata": {},
   "outputs": [],
   "source": [
    "categorical_columns = [\"lead_source\",\"industry\",\"employment_status\",\"location\"]\n",
    "numerical_columns = [\"number_of_courses_viewed\",\"annual_income\",\"interaction_count\",\"lead_score\",\"converted\"]"
   ]
  },
  {
   "cell_type": "code",
   "execution_count": 5,
   "id": "82838095",
   "metadata": {},
   "outputs": [
    {
     "name": "stdout",
     "output_type": "stream",
     "text": [
      "128\n",
      "134\n",
      "100\n",
      "63\n"
     ]
    }
   ],
   "source": [
    "for i in categorical_columns:\n",
    "    print(df[i].isnull().sum())\n",
    "df[categorical_columns] = df[categorical_columns].fillna(\"NA\")\n"
   ]
  },
  {
   "cell_type": "code",
   "execution_count": 6,
   "id": "d2f42085",
   "metadata": {},
   "outputs": [
    {
     "name": "stdout",
     "output_type": "stream",
     "text": [
      "0\n",
      "181\n",
      "0\n",
      "0\n",
      "0\n"
     ]
    }
   ],
   "source": [
    "for i in numerical_columns:\n",
    "    print(df[i].isnull().sum())\n",
    "df[numerical_columns] = df[numerical_columns].fillna(0.0)"
   ]
  },
  {
   "cell_type": "code",
   "execution_count": 11,
   "id": "d21fd765",
   "metadata": {},
   "outputs": [],
   "source": [
    "from sklearn.model_selection import train_test_split\n",
    "from sklearn.metrics import roc_auc_score\n"
   ]
  },
  {
   "cell_type": "code",
   "execution_count": 9,
   "id": "7dd27392",
   "metadata": {},
   "outputs": [],
   "source": [
    "target = 'converted'  \n",
    "y = df[target]                   \n",
    "X = df.drop(columns=[target])    \n"
   ]
  },
  {
   "cell_type": "code",
   "execution_count": 10,
   "id": "79e6acfe",
   "metadata": {},
   "outputs": [],
   "source": [
    "X_train, X_temp, y_train, y_temp = train_test_split(\n",
    "    X, y, test_size=0.4, random_state=1\n",
    ")\n",
    "\n",
    "# Then split the temp set equally into validation (20%) and test (20%)\n",
    "X_val, X_test, y_val, y_test = train_test_split(\n",
    "    X_temp, y_temp, test_size=0.5, random_state=1\n",
    ")"
   ]
  },
  {
   "cell_type": "code",
   "execution_count": 22,
   "id": "919f0e23",
   "metadata": {},
   "outputs": [
    {
     "name": "stdout",
     "output_type": "stream",
     "text": [
      "AUC for number_of_courses_viewed: 0.7652439024390244\n",
      "AUC for annual_income: 0.5446354552990968\n",
      "AUC for interaction_count: 0.7271914132379249\n",
      "AUC for lead_score: 0.6111168681007025\n"
     ]
    }
   ],
   "source": [
    "numerical_columns_no_target = [\"number_of_courses_viewed\",\"annual_income\",\"interaction_count\",\"lead_score\"]\n",
    "for i in numerical_columns_no_target:\n",
    "    auc = roc_auc_score(y_train,X_train[i])\n",
    "    print(f\"AUC for {i}: {auc}\")\n",
    "\n",
    "\n"
   ]
  },
  {
   "cell_type": "code",
   "execution_count": 27,
   "id": "90ff0148",
   "metadata": {},
   "outputs": [
    {
     "name": "stdout",
     "output_type": "stream",
     "text": [
      "AUC on validation dataset: 0.7944791666666666\n"
     ]
    }
   ],
   "source": [
    "from sklearn.feature_extraction import DictVectorizer\n",
    "from sklearn.linear_model import LogisticRegression\n",
    "\n",
    "train_dicts = X_train.to_dict(orient='records')\n",
    "val_dicts = X_val.to_dict(orient='records')\n",
    "\n",
    "dv = DictVectorizer(sparse=False)\n",
    "\n",
    "X_train_encoded = dv.fit_transform(train_dicts)\n",
    "X_val_encoded = dv.transform(val_dicts)\n",
    "\n",
    "model = LogisticRegression(solver='liblinear', C=1.0, max_iter=1000)\n",
    "model.fit(X_train_encoded, y_train)\n",
    "\n",
    "y_pred = model.predict_proba(X_val_encoded)[:, 1]\n",
    "\n",
    "auc = roc_auc_score(y_val, y_pred)\n",
    "print(\"AUC on validation dataset:\", auc)\n"
   ]
  },
  {
   "cell_type": "code",
   "execution_count": 28,
   "id": "e9e1663f",
   "metadata": {},
   "outputs": [],
   "source": [
    "import matplotlib.pyplot as plt\n",
    "from sklearn.metrics import precision_score, recall_score"
   ]
  },
  {
   "cell_type": "code",
   "execution_count": 30,
   "id": "1f7bcf32",
   "metadata": {},
   "outputs": [
    {
     "name": "stderr",
     "output_type": "stream",
     "text": [
      "C:\\Users\\fulbe\\AppData\\Roaming\\Python\\Python312\\site-packages\\sklearn\\metrics\\_classification.py:1531: UndefinedMetricWarning: Precision is ill-defined and being set to 0.0 due to no predicted samples. Use `zero_division` parameter to control this behavior.\n",
      "  _warn_prf(average, modifier, f\"{metric.capitalize()} is\", len(result))\n",
      "C:\\Users\\fulbe\\AppData\\Roaming\\Python\\Python312\\site-packages\\sklearn\\metrics\\_classification.py:1531: UndefinedMetricWarning: Precision is ill-defined and being set to 0.0 due to no predicted samples. Use `zero_division` parameter to control this behavior.\n",
      "  _warn_prf(average, modifier, f\"{metric.capitalize()} is\", len(result))\n"
     ]
    },
    {
     "data": {
      "image/png": "[encoded data removed]",
      "text/plain": [
       "<Figure size 800x500 with 1 Axes>"
      ]
     },
     "metadata": {},
     "output_type": "display_data"
    }
   ],
   "source": [
    "thresholds = np.arange(0.0, 1.01, 0.01)\n",
    "\n",
    "precisions = []\n",
    "recalls = []\n",
    "for t in thresholds:\n",
    "    y_pred_class = (y_pred >= t).astype(int)\n",
    "    precisions.append(precision_score(y_val, y_pred_class))\n",
    "    recalls.append(recall_score(y_val, y_pred_class))\n",
    "\n",
    "plt.figure(figsize=(8, 5))\n",
    "plt.plot(thresholds, precisions, label=\"Precision\")\n",
    "plt.plot(thresholds, recalls, label=\"Recall\")\n",
    "plt.xlabel(\"Threshold\")\n",
    "plt.ylabel(\"Score\")\n",
    "plt.title(\"Precision and Recall vs. Threshold\")\n",
    "plt.legend()\n",
    "plt.grid(True)\n",
    "plt.show()"
   ]
  },
  {
   "cell_type": "code",
   "execution_count": 31,
   "id": "9dcc1d45",
   "metadata": {},
   "outputs": [
    {
     "name": "stdout",
     "output_type": "stream",
     "text": [
      "Precision and recall intersect at threshold ≈ 0.59\n"
     ]
    }
   ],
   "source": [
    "idx = np.argmin(np.abs(np.array(precisions) - np.array(recalls)))\n",
    "intersection_threshold = thresholds[idx]\n",
    "print(f\"Precision and recall intersect at threshold ≈ {intersection_threshold:.2f}\")"
   ]
  },
  {
   "cell_type": "code",
   "execution_count": 32,
   "id": "59306b52",
   "metadata": {},
   "outputs": [
    {
     "name": "stdout",
     "output_type": "stream",
     "text": [
      "Best F1 = 0.848 at threshold = 0.47\n"
     ]
    },
    {
     "name": "stderr",
     "output_type": "stream",
     "text": [
      "C:\\Users\\fulbe\\AppData\\Roaming\\Python\\Python312\\site-packages\\sklearn\\metrics\\_classification.py:1531: UndefinedMetricWarning: Precision is ill-defined and being set to 0.0 due to no predicted samples. Use `zero_division` parameter to control this behavior.\n",
      "  _warn_prf(average, modifier, f\"{metric.capitalize()} is\", len(result))\n",
      "C:\\Users\\fulbe\\AppData\\Roaming\\Python\\Python312\\site-packages\\sklearn\\metrics\\_classification.py:1531: UndefinedMetricWarning: Precision is ill-defined and being set to 0.0 due to no predicted samples. Use `zero_division` parameter to control this behavior.\n",
      "  _warn_prf(average, modifier, f\"{metric.capitalize()} is\", len(result))\n"
     ]
    }
   ],
   "source": [
    "thresholds = np.arange(0.0, 1.01, 0.01)\n",
    "\n",
    "f1_scores = []\n",
    "\n",
    "for t in thresholds:\n",
    "    y_pred_class = (y_pred >= t).astype(int)\n",
    "    P = precision_score(y_val, y_pred_class)\n",
    "    R = recall_score(y_val, y_pred_class)\n",
    "    \n",
    "    # Compute F1 using the given formula\n",
    "    if P + R == 0:\n",
    "        f1 = 0\n",
    "    else:\n",
    "        f1 = 2 * P * R / (P + R)\n",
    "    f1_scores.append(f1)\n",
    "\n",
    "# Find the best threshold\n",
    "best_idx = np.argmax(f1_scores)\n",
    "best_threshold = thresholds[best_idx]\n",
    "best_f1 = f1_scores[best_idx]\n",
    "\n",
    "print(f\"Best F1 = {best_f1:.3f} at threshold = {best_threshold:.2f}\")"
   ]
  },
  {
   "cell_type": "code",
   "execution_count": 33,
   "id": "99bf3f92",
   "metadata": {},
   "outputs": [],
   "source": [
    "from sklearn.model_selection import KFold"
   ]
  },
  {
   "cell_type": "code",
   "execution_count": 36,
   "id": "cfc9c871",
   "metadata": {},
   "outputs": [
    {
     "name": "stdout",
     "output_type": "stream",
     "text": [
      "AUCs: [np.float64(0.817), np.float64(0.779), np.float64(0.831), np.float64(0.868), np.float64(0.809)]\n",
      "Mean AUC: 0.821\n",
      "Std dev: 0.029\n"
     ]
    }
   ],
   "source": [
    "\n",
    "kfold = KFold(n_splits=5, shuffle=True, random_state=1)\n",
    "scores = []\n",
    "df_full_train = X.copy()\n",
    "df_full_train['converted'] = y\n",
    "for train_idx, val_idx in kfold.split(df_full_train):\n",
    "    df_train = df_full_train.iloc[train_idx]\n",
    "    df_val   = df_full_train.iloc[val_idx]\n",
    "    \n",
    "    # Split features and target\n",
    "    X_train = df_train.drop(columns=['converted'])\n",
    "    y_train = df_train['converted'].values\n",
    "    X_val   = df_val.drop(columns=['converted'])\n",
    "    y_val   = df_val['converted'].values\n",
    "    \n",
    "    # One-hot encode\n",
    "    dv = DictVectorizer(sparse=False)\n",
    "    X_train_enc = dv.fit_transform(X_train.to_dict(orient='records'))\n",
    "    X_val_enc   = dv.transform(X_val.to_dict(orient='records'))\n",
    "    \n",
    "    # Train logistic regression\n",
    "    model = LogisticRegression(solver='liblinear', C=1.0, max_iter=1000)\n",
    "    model.fit(X_train_enc, y_train)\n",
    "    \n",
    "    # Predict probabilities and compute AUC\n",
    "    y_pred = model.predict_proba(X_val_enc)[:, 1]\n",
    "    auc = roc_auc_score(y_val, y_pred)\n",
    "    scores.append(auc)\n",
    "\n",
    "print(\"AUCs:\", [round(s, 3) for s in scores])\n",
    "print(\"Mean AUC:\", round(np.mean(scores), 3))\n",
    "print(\"Std dev:\", round(np.std(scores), 3))\n"
   ]
  },
  {
   "cell_type": "code",
   "execution_count": 37,
   "id": "70b64ebf",
   "metadata": {},
   "outputs": [
    {
     "name": "stdout",
     "output_type": "stream",
     "text": [
      "C=1e-06\n",
      "Mean AUC: 0.549\n",
      "Std AUC: 0.03\n",
      "\n",
      "C=0.001\n",
      "Mean AUC: 0.862\n",
      "Std AUC: 0.024\n",
      "\n",
      "C=1\n",
      "Mean AUC: 0.821\n",
      "Std AUC: 0.029\n",
      "\n"
     ]
    }
   ],
   "source": [
    "C_values = [0.000001, 0.001, 1]\n",
    "kfold = KFold(n_splits=5, shuffle=True, random_state=1)\n",
    "\n",
    "for C in C_values:\n",
    "    auc_scores = []\n",
    "\n",
    "    for train_idx, val_idx in kfold.split(df_full_train):\n",
    "        df_train = df_full_train.iloc[train_idx]\n",
    "        df_val   = df_full_train.iloc[val_idx]\n",
    "\n",
    "        X_train = df_train.drop(columns=['converted'])\n",
    "        y_train = df_train['converted']\n",
    "        X_val   = df_val.drop(columns=['converted'])\n",
    "        y_val   = df_val['converted']\n",
    "\n",
    "        dv = DictVectorizer(sparse=False)\n",
    "        X_train_enc = dv.fit_transform(X_train.to_dict(orient='records'))\n",
    "        X_val_enc   = dv.transform(X_val.to_dict(orient='records'))\n",
    "\n",
    "        model = LogisticRegression(solver='liblinear', C=C, max_iter=1000)\n",
    "        model.fit(X_train_enc, y_train)\n",
    "        y_pred = model.predict_proba(X_val_enc)[:, 1]\n",
    "\n",
    "        auc = roc_auc_score(y_val, y_pred)\n",
    "        auc_scores.append(auc)\n",
    "\n",
    "    print(f\"C={C}\")\n",
    "    print(\"Mean AUC:\", round(np.mean(auc_scores), 3))\n",
    "    print(\"Std AUC:\", round(np.std(auc_scores), 3))\n",
    "    print()\n"
   ]
  }
 ],
 "metadata": {
  "kernelspec": {
   "display_name": "mlzoomcamp",
   "language": "python",
   "name": "python3"
  },
  "language_info": {
   "codemirror_mode": {
    "name": "ipython",
    "version": 3
   },
   "file_extension": ".py",
   "mimetype": "text/x-python",
   "name": "python",
   "nbconvert_exporter": "python",
   "pygments_lexer": "ipython3",
   "version": "3.12.11"
  }
 },
 "nbformat": 4,
 "nbformat_minor": 5
}
